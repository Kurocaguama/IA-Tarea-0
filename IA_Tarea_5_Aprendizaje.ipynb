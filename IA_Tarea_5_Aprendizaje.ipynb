{
 "cells": [
  {
   "cell_type": "markdown",
   "id": "c9683b3c-20ed-4e01-bfac-56e31af1b6cc",
   "metadata": {},
   "source": [
    "## Dataset\n",
    "\n",
    "En las siguientes celdas se importa el dataset y se prepara para la implementación de los modelos de aprendizaje.\n",
    "\n",
    "*Split 70-30* -> 280-120"
   ]
  },
  {
   "cell_type": "code",
   "execution_count": 1,
   "id": "8ae7dc01-549e-4979-b28a-d59b54575528",
   "metadata": {},
   "outputs": [
    {
     "name": "stdout",
     "output_type": "stream",
     "text": [
      "Path to dataset files: C:\\Users\\FLopezP\\.cache\\kagglehub\\datasets\\dragonheir\\logistic-regression\\versions\\1\n"
     ]
    }
   ],
   "source": [
    "import pandas as pd\n",
    "import kagglehub\n",
    "\n",
    "path = kagglehub.dataset_download(\"dragonheir/logistic-regression\")\n",
    "\n",
    "print(\"Path to dataset files:\", path)\n",
    "dataset = pd.read_csv(r'C:\\Users\\FLopezP\\.cache\\kagglehub\\datasets\\dragonheir\\logistic-regression\\versions\\1\\Social_Network_Ads.csv')"
   ]
  },
  {
   "cell_type": "code",
   "execution_count": 2,
   "id": "54345192-17f0-4992-8399-784223d29532",
   "metadata": {
    "scrolled": true
   },
   "outputs": [
    {
     "data": {
      "text/html": [
       "<div>\n",
       "<style scoped>\n",
       "    .dataframe tbody tr th:only-of-type {\n",
       "        vertical-align: middle;\n",
       "    }\n",
       "\n",
       "    .dataframe tbody tr th {\n",
       "        vertical-align: top;\n",
       "    }\n",
       "\n",
       "    .dataframe thead th {\n",
       "        text-align: right;\n",
       "    }\n",
       "</style>\n",
       "<table border=\"1\" class=\"dataframe\">\n",
       "  <thead>\n",
       "    <tr style=\"text-align: right;\">\n",
       "      <th></th>\n",
       "      <th>User ID</th>\n",
       "      <th>Gender</th>\n",
       "      <th>GenderNum</th>\n",
       "      <th>Age</th>\n",
       "      <th>EstimatedSalary</th>\n",
       "      <th>Purchased</th>\n",
       "    </tr>\n",
       "  </thead>\n",
       "  <tbody>\n",
       "    <tr>\n",
       "      <th>0</th>\n",
       "      <td>15624510</td>\n",
       "      <td>Male</td>\n",
       "      <td>0</td>\n",
       "      <td>19</td>\n",
       "      <td>19000</td>\n",
       "      <td>0</td>\n",
       "    </tr>\n",
       "    <tr>\n",
       "      <th>1</th>\n",
       "      <td>15810944</td>\n",
       "      <td>Male</td>\n",
       "      <td>0</td>\n",
       "      <td>35</td>\n",
       "      <td>20000</td>\n",
       "      <td>0</td>\n",
       "    </tr>\n",
       "    <tr>\n",
       "      <th>2</th>\n",
       "      <td>15668575</td>\n",
       "      <td>Female</td>\n",
       "      <td>1</td>\n",
       "      <td>26</td>\n",
       "      <td>43000</td>\n",
       "      <td>0</td>\n",
       "    </tr>\n",
       "    <tr>\n",
       "      <th>3</th>\n",
       "      <td>15603246</td>\n",
       "      <td>Female</td>\n",
       "      <td>1</td>\n",
       "      <td>27</td>\n",
       "      <td>57000</td>\n",
       "      <td>0</td>\n",
       "    </tr>\n",
       "    <tr>\n",
       "      <th>4</th>\n",
       "      <td>15804002</td>\n",
       "      <td>Male</td>\n",
       "      <td>0</td>\n",
       "      <td>19</td>\n",
       "      <td>76000</td>\n",
       "      <td>0</td>\n",
       "    </tr>\n",
       "    <tr>\n",
       "      <th>...</th>\n",
       "      <td>...</td>\n",
       "      <td>...</td>\n",
       "      <td>...</td>\n",
       "      <td>...</td>\n",
       "      <td>...</td>\n",
       "      <td>...</td>\n",
       "    </tr>\n",
       "    <tr>\n",
       "      <th>395</th>\n",
       "      <td>15691863</td>\n",
       "      <td>Female</td>\n",
       "      <td>1</td>\n",
       "      <td>46</td>\n",
       "      <td>41000</td>\n",
       "      <td>1</td>\n",
       "    </tr>\n",
       "    <tr>\n",
       "      <th>396</th>\n",
       "      <td>15706071</td>\n",
       "      <td>Male</td>\n",
       "      <td>0</td>\n",
       "      <td>51</td>\n",
       "      <td>23000</td>\n",
       "      <td>1</td>\n",
       "    </tr>\n",
       "    <tr>\n",
       "      <th>397</th>\n",
       "      <td>15654296</td>\n",
       "      <td>Female</td>\n",
       "      <td>1</td>\n",
       "      <td>50</td>\n",
       "      <td>20000</td>\n",
       "      <td>1</td>\n",
       "    </tr>\n",
       "    <tr>\n",
       "      <th>398</th>\n",
       "      <td>15755018</td>\n",
       "      <td>Male</td>\n",
       "      <td>0</td>\n",
       "      <td>36</td>\n",
       "      <td>33000</td>\n",
       "      <td>0</td>\n",
       "    </tr>\n",
       "    <tr>\n",
       "      <th>399</th>\n",
       "      <td>15594041</td>\n",
       "      <td>Female</td>\n",
       "      <td>1</td>\n",
       "      <td>49</td>\n",
       "      <td>36000</td>\n",
       "      <td>1</td>\n",
       "    </tr>\n",
       "  </tbody>\n",
       "</table>\n",
       "<p>400 rows × 6 columns</p>\n",
       "</div>"
      ],
      "text/plain": [
       "      User ID  Gender  GenderNum  Age  EstimatedSalary  Purchased\n",
       "0    15624510    Male          0   19            19000          0\n",
       "1    15810944    Male          0   35            20000          0\n",
       "2    15668575  Female          1   26            43000          0\n",
       "3    15603246  Female          1   27            57000          0\n",
       "4    15804002    Male          0   19            76000          0\n",
       "..        ...     ...        ...  ...              ...        ...\n",
       "395  15691863  Female          1   46            41000          1\n",
       "396  15706071    Male          0   51            23000          1\n",
       "397  15654296  Female          1   50            20000          1\n",
       "398  15755018    Male          0   36            33000          0\n",
       "399  15594041  Female          1   49            36000          1\n",
       "\n",
       "[400 rows x 6 columns]"
      ]
     },
     "execution_count": 2,
     "metadata": {},
     "output_type": "execute_result"
    }
   ],
   "source": [
    "# Female = 1\n",
    "# Male = 0\n",
    "aux = []\n",
    "for i in range(len(dataset[\"Gender\"])):\n",
    "    if dataset[\"Gender\"][i] == \"Female\":\n",
    "        aux.append(1)\n",
    "    else:\n",
    "        aux.append(0)\n",
    "\n",
    "dataset[\"GenderNum\"] = aux\n",
    "dataset = dataset.loc[:,[\"User ID\", \"Gender\", \"GenderNum\", \"Age\", \"EstimatedSalary\", \"Purchased\"]]\n",
    "dataset"
   ]
  },
  {
   "cell_type": "code",
   "execution_count": 57,
   "id": "864d18d2-c5d9-4d46-9caf-2e5daa360379",
   "metadata": {},
   "outputs": [],
   "source": [
    "# train test split\n",
    "ds_train = dataset[0:280]\n",
    "ds_test = dataset[280:400].reset_index()\n",
    "ds_test = ds_test.drop(columns = [\"index\"])\n",
    "labels_train = ds_train[\"Purchased\"]\n",
    "labels_test = ds_test[\"Purchased\"].reset_index()"
   ]
  },
  {
   "cell_type": "markdown",
   "id": "13cfaed8-ebe8-4298-842d-4043728410cb",
   "metadata": {},
   "source": [
    "## Regresión Logística\n",
    "\n",
    "Buscamos predecir si dadas 3 características (Género, Edad, Salario Estimado) se compra un elemento."
   ]
  },
  {
   "cell_type": "code",
   "execution_count": 70,
   "id": "7e1cfccb-b413-4c4d-8a0d-89d3f63e9b1e",
   "metadata": {},
   "outputs": [],
   "source": [
    "# Dimensiones:\n",
    "# Vector de entrada: (M/F, Edad, Salario)\n",
    "# Vector de pesos: (a, b, c)^T\n",
    "# Sesgo: d\n",
    "# z = Entrada.Pesos + Sesgo\n",
    "# Proba = 1/(1+e^-z)\n",
    "\n",
    "import numpy as np\n",
    "\n",
    "# NOTAS: CREO QUE FALTA ESTANDARIZAR\n",
    "\n",
    "def mix_char(ds):\n",
    "    \"\"\"\n",
    "    ds = DataFrame, en este caso asumimos que tiene las características adecuadas del problema\n",
    "\n",
    "    return: lista de características normalizadas\n",
    "    \"\"\"\n",
    "    df = ds.drop(columns = [\"User ID\", \"Gender\"])\n",
    "    for column in df.columns:\n",
    "        if column != \"GenderNum\":\n",
    "            df[column] = df[column] / df[column].max()\n",
    "    \n",
    "    char = []\n",
    "    for i in range(len(ds)):\n",
    "        aux = [df[\"GenderNum\"][i], df[\"Age\"][i], df[\"EstimatedSalary\"][i]]\n",
    "        arr_aux = np.array(aux)\n",
    "        arr_aux = np.reshape(arr_aux, (1,3))\n",
    "        char.append(arr_aux)\n",
    "    return char"
   ]
  },
  {
   "cell_type": "code",
   "execution_count": 72,
   "id": "b3deb2e3-69fa-4d88-8508-40c1810217e4",
   "metadata": {},
   "outputs": [
    {
     "name": "stdout",
     "output_type": "stream",
     "text": [
      "[[0.         0.31666667 0.12666667]] [[1.         0.98333333 0.61111111]]\n"
     ]
    }
   ],
   "source": [
    "#Tenemos los conjuntos de entrenamiento ya agrupados. Ahora tenemos que realizar la multiplicación por los pesos.\n",
    "train_char = mix_char(ds_train)\n",
    "test_char = mix_char(ds_test)\n",
    "\n",
    "print(train_char[0], test_char[0])"
   ]
  },
  {
   "cell_type": "code",
   "execution_count": 44,
   "id": "9cf43f78-26d0-4f1a-9863-3523315eeb9d",
   "metadata": {},
   "outputs": [
    {
     "name": "stdout",
     "output_type": "stream",
     "text": [
      "[[0.92849732]\n",
      " [0.97703612]\n",
      " [0.52910922]] [[0.80411763]]\n"
     ]
    }
   ],
   "source": [
    "pesos = np.random.rand(3,1)\n",
    "bias = np.random.rand(1,1)\n",
    "print(pesos, bias)"
   ]
  },
  {
   "cell_type": "code",
   "execution_count": 73,
   "id": "aaf8ee55-f414-481f-9fba-0274f9e72413",
   "metadata": {},
   "outputs": [
    {
     "name": "stdout",
     "output_type": "stream",
     "text": [
      "[[1.1805329]]\n"
     ]
    }
   ],
   "source": [
    "z = np.dot(train_char[0], pesos) + bias\n",
    "print(z)"
   ]
  },
  {
   "cell_type": "markdown",
   "id": "497340d8-ee7a-4247-9ed2-6ff8f166f927",
   "metadata": {},
   "source": [
    "**Ahora hay que automatizar la comparación del vector de pesos con todos los valores de entrenamiento**\n",
    "\n",
    "**Posteriormente hay que ver cómo pingas vamos a hacer el descenso del gradiente**"
   ]
  },
  {
   "cell_type": "markdown",
   "id": "0ab9ce12-56c2-4d0c-826d-3b0ec2867c08",
   "metadata": {
    "jp-MarkdownHeadingCollapsed": true
   },
   "source": [
    "## Red Neuronal"
   ]
  },
  {
   "cell_type": "code",
   "execution_count": null,
   "id": "49431587-d12c-49ad-b0f3-a9d5365ec940",
   "metadata": {},
   "outputs": [],
   "source": []
  },
  {
   "cell_type": "markdown",
   "id": "8eaff081-a96c-4642-ad11-9710cb9ec397",
   "metadata": {
    "jp-MarkdownHeadingCollapsed": true
   },
   "source": [
    "## K-Means"
   ]
  },
  {
   "cell_type": "code",
   "execution_count": null,
   "id": "0c778f31-be7a-480b-9b4c-00d16498ec65",
   "metadata": {},
   "outputs": [],
   "source": []
  }
 ],
 "metadata": {
  "kernelspec": {
   "display_name": "Python 3 (ipykernel)",
   "language": "python",
   "name": "python3"
  },
  "language_info": {
   "codemirror_mode": {
    "name": "ipython",
    "version": 3
   },
   "file_extension": ".py",
   "mimetype": "text/x-python",
   "name": "python",
   "nbconvert_exporter": "python",
   "pygments_lexer": "ipython3",
   "version": "3.10.14"
  }
 },
 "nbformat": 4,
 "nbformat_minor": 5
}
