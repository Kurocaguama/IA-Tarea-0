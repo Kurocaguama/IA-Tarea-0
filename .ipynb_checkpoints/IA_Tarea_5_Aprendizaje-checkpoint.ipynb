{
 "cells": [
  {
   "cell_type": "markdown",
   "id": "c9683b3c-20ed-4e01-bfac-56e31af1b6cc",
   "metadata": {},
   "source": [
    "## Dataset\n",
    "\n",
    "En las siguientes celdas se importa el dataset y se prepara para la implementación de los modelos de aprendizaje.\n",
    "\n",
    "*Split 70-30* -> 280-120"
   ]
  },
  {
   "cell_type": "code",
   "execution_count": 1,
   "id": "8ae7dc01-549e-4979-b28a-d59b54575528",
   "metadata": {},
   "outputs": [
    {
     "name": "stdout",
     "output_type": "stream",
     "text": [
      "Path to dataset files: C:\\Users\\FLopezP\\.cache\\kagglehub\\datasets\\dragonheir\\logistic-regression\\versions\\1\n"
     ]
    }
   ],
   "source": [
    "import pandas as pd\n",
    "import kagglehub\n",
    "\n",
    "path = kagglehub.dataset_download(\"dragonheir/logistic-regression\")\n",
    "\n",
    "print(\"Path to dataset files:\", path)\n",
    "dataset = pd.read_csv(r'C:\\Users\\FLopezP\\.cache\\kagglehub\\datasets\\dragonheir\\logistic-regression\\versions\\1\\Social_Network_Ads.csv')"
   ]
  },
  {
   "cell_type": "code",
   "execution_count": 2,
   "id": "54345192-17f0-4992-8399-784223d29532",
   "metadata": {
    "scrolled": true
   },
   "outputs": [
    {
     "data": {
      "text/html": [
       "<div>\n",
       "<style scoped>\n",
       "    .dataframe tbody tr th:only-of-type {\n",
       "        vertical-align: middle;\n",
       "    }\n",
       "\n",
       "    .dataframe tbody tr th {\n",
       "        vertical-align: top;\n",
       "    }\n",
       "\n",
       "    .dataframe thead th {\n",
       "        text-align: right;\n",
       "    }\n",
       "</style>\n",
       "<table border=\"1\" class=\"dataframe\">\n",
       "  <thead>\n",
       "    <tr style=\"text-align: right;\">\n",
       "      <th></th>\n",
       "      <th>User ID</th>\n",
       "      <th>Gender</th>\n",
       "      <th>GenderNum</th>\n",
       "      <th>Age</th>\n",
       "      <th>EstimatedSalary</th>\n",
       "      <th>Purchased</th>\n",
       "    </tr>\n",
       "  </thead>\n",
       "  <tbody>\n",
       "    <tr>\n",
       "      <th>0</th>\n",
       "      <td>15624510</td>\n",
       "      <td>Male</td>\n",
       "      <td>0</td>\n",
       "      <td>19</td>\n",
       "      <td>19000</td>\n",
       "      <td>0</td>\n",
       "    </tr>\n",
       "    <tr>\n",
       "      <th>1</th>\n",
       "      <td>15810944</td>\n",
       "      <td>Male</td>\n",
       "      <td>0</td>\n",
       "      <td>35</td>\n",
       "      <td>20000</td>\n",
       "      <td>0</td>\n",
       "    </tr>\n",
       "    <tr>\n",
       "      <th>2</th>\n",
       "      <td>15668575</td>\n",
       "      <td>Female</td>\n",
       "      <td>1</td>\n",
       "      <td>26</td>\n",
       "      <td>43000</td>\n",
       "      <td>0</td>\n",
       "    </tr>\n",
       "    <tr>\n",
       "      <th>3</th>\n",
       "      <td>15603246</td>\n",
       "      <td>Female</td>\n",
       "      <td>1</td>\n",
       "      <td>27</td>\n",
       "      <td>57000</td>\n",
       "      <td>0</td>\n",
       "    </tr>\n",
       "    <tr>\n",
       "      <th>4</th>\n",
       "      <td>15804002</td>\n",
       "      <td>Male</td>\n",
       "      <td>0</td>\n",
       "      <td>19</td>\n",
       "      <td>76000</td>\n",
       "      <td>0</td>\n",
       "    </tr>\n",
       "    <tr>\n",
       "      <th>...</th>\n",
       "      <td>...</td>\n",
       "      <td>...</td>\n",
       "      <td>...</td>\n",
       "      <td>...</td>\n",
       "      <td>...</td>\n",
       "      <td>...</td>\n",
       "    </tr>\n",
       "    <tr>\n",
       "      <th>395</th>\n",
       "      <td>15691863</td>\n",
       "      <td>Female</td>\n",
       "      <td>1</td>\n",
       "      <td>46</td>\n",
       "      <td>41000</td>\n",
       "      <td>1</td>\n",
       "    </tr>\n",
       "    <tr>\n",
       "      <th>396</th>\n",
       "      <td>15706071</td>\n",
       "      <td>Male</td>\n",
       "      <td>0</td>\n",
       "      <td>51</td>\n",
       "      <td>23000</td>\n",
       "      <td>1</td>\n",
       "    </tr>\n",
       "    <tr>\n",
       "      <th>397</th>\n",
       "      <td>15654296</td>\n",
       "      <td>Female</td>\n",
       "      <td>1</td>\n",
       "      <td>50</td>\n",
       "      <td>20000</td>\n",
       "      <td>1</td>\n",
       "    </tr>\n",
       "    <tr>\n",
       "      <th>398</th>\n",
       "      <td>15755018</td>\n",
       "      <td>Male</td>\n",
       "      <td>0</td>\n",
       "      <td>36</td>\n",
       "      <td>33000</td>\n",
       "      <td>0</td>\n",
       "    </tr>\n",
       "    <tr>\n",
       "      <th>399</th>\n",
       "      <td>15594041</td>\n",
       "      <td>Female</td>\n",
       "      <td>1</td>\n",
       "      <td>49</td>\n",
       "      <td>36000</td>\n",
       "      <td>1</td>\n",
       "    </tr>\n",
       "  </tbody>\n",
       "</table>\n",
       "<p>400 rows × 6 columns</p>\n",
       "</div>"
      ],
      "text/plain": [
       "      User ID  Gender  GenderNum  Age  EstimatedSalary  Purchased\n",
       "0    15624510    Male          0   19            19000          0\n",
       "1    15810944    Male          0   35            20000          0\n",
       "2    15668575  Female          1   26            43000          0\n",
       "3    15603246  Female          1   27            57000          0\n",
       "4    15804002    Male          0   19            76000          0\n",
       "..        ...     ...        ...  ...              ...        ...\n",
       "395  15691863  Female          1   46            41000          1\n",
       "396  15706071    Male          0   51            23000          1\n",
       "397  15654296  Female          1   50            20000          1\n",
       "398  15755018    Male          0   36            33000          0\n",
       "399  15594041  Female          1   49            36000          1\n",
       "\n",
       "[400 rows x 6 columns]"
      ]
     },
     "execution_count": 2,
     "metadata": {},
     "output_type": "execute_result"
    }
   ],
   "source": [
    "# Female = 1\n",
    "# Male = 0\n",
    "aux = []\n",
    "for i in range(len(dataset[\"Gender\"])):\n",
    "    if dataset[\"Gender\"][i] == \"Female\":\n",
    "        aux.append(1)\n",
    "    else:\n",
    "        aux.append(0)\n",
    "\n",
    "dataset[\"GenderNum\"] = aux\n",
    "dataset = dataset.loc[:,[\"User ID\", \"Gender\", \"GenderNum\", \"Age\", \"EstimatedSalary\", \"Purchased\"]]\n",
    "dataset"
   ]
  },
  {
   "cell_type": "code",
   "execution_count": 3,
   "id": "864d18d2-c5d9-4d46-9caf-2e5daa360379",
   "metadata": {},
   "outputs": [],
   "source": [
    "# train test split\n",
    "ds_train = dataset[0:280]\n",
    "ds_test = dataset[280:400].reset_index()\n",
    "ds_test = ds_test.drop(columns = [\"index\"])\n",
    "labels_train = ds_train[\"Purchased\"]\n",
    "labels_test = ds_test[\"Purchased\"].reset_index()"
   ]
  },
  {
   "cell_type": "markdown",
   "id": "13cfaed8-ebe8-4298-842d-4043728410cb",
   "metadata": {},
   "source": [
    "## Regresión Logística\n",
    "\n",
    "Buscamos predecir si dadas 3 características (Género, Edad, Salario Estimado) se compra un elemento."
   ]
  },
  {
   "cell_type": "code",
   "execution_count": 4,
   "id": "7e1cfccb-b413-4c4d-8a0d-89d3f63e9b1e",
   "metadata": {},
   "outputs": [],
   "source": [
    "# Dimensiones:\n",
    "# Vector de entrada: (M/F, Edad, Salario)\n",
    "# Vector de pesos: (a, b, c)^T\n",
    "# Sesgo: d\n",
    "# z = Entrada.Pesos + Sesgo\n",
    "# Proba = 1/(1+e^-z)\n",
    "\n",
    "import numpy as np\n",
    "def mix_char(ds):\n",
    "    \"\"\"\n",
    "    ds = DataFrame, en este caso asumimos que tiene las características adecuadas del problema\n",
    "\n",
    "    return: lista de características normalizadas\n",
    "    \"\"\"\n",
    "    df = ds.drop(columns = [\"User ID\", \"Gender\"])\n",
    "    for column in df.columns:\n",
    "        if column != \"GenderNum\":\n",
    "            df[column] = df[column] / df[column].max()\n",
    "    \n",
    "    char = []\n",
    "    for i in range(len(ds)):\n",
    "        aux = [df[\"GenderNum\"][i], df[\"Age\"][i], df[\"EstimatedSalary\"][i]]\n",
    "        arr_aux = np.array(aux)\n",
    "        arr_aux = np.reshape(arr_aux, (1,3))\n",
    "        char.append(arr_aux)\n",
    "    return char"
   ]
  },
  {
   "cell_type": "code",
   "execution_count": 5,
   "id": "b3deb2e3-69fa-4d88-8508-40c1810217e4",
   "metadata": {},
   "outputs": [
    {
     "name": "stdout",
     "output_type": "stream",
     "text": [
      "[[0.         0.31666667 0.12666667]] [[1.         0.98333333 0.61111111]]\n"
     ]
    }
   ],
   "source": [
    "#Tenemos los conjuntos de entrenamiento ya agrupados. Ahora tenemos que realizar la multiplicación por los pesos.\n",
    "train_char = mix_char(ds_train)\n",
    "test_char = mix_char(ds_test)\n",
    "\n",
    "print(train_char[0], test_char[0])"
   ]
  },
  {
   "cell_type": "code",
   "execution_count": 55,
   "id": "357e033c-6ee8-415b-b7d7-f3b62af87edd",
   "metadata": {},
   "outputs": [],
   "source": [
    "def logit(train_instance, weight, bias):\n",
    "    \"\"\"\n",
    "    train_instance = Vector único de 1x3.\n",
    "    weight = Vector de pesos (1x3)\n",
    "    bias = Vector del sesgo\n",
    "\n",
    "    returns logit del vector\n",
    "    \"\"\"\n",
    "    weight = weight.reshape(3,1)\n",
    "    z = np.dot(train_instance, weight) + bias\n",
    "    log = 1 / (1 + np.exp(-z))\n",
    "    return log[0][0]\n",
    "\n",
    "def cross_entropy(y, muestra, weight, bias):\n",
    "    \"\"\"\n",
    "    y = valor del label\n",
    "    muestra = muestra directa del dataset\n",
    "\n",
    "    returns CrossEntropy(Label, Muestra)\n",
    "    \"\"\"\n",
    "    cross_entropy = -((y*np.log(logit(muestra, weight, bias))) + ((1-y)*np.log(1-logit(muestra, weight, bias))))\n",
    "    return cross_entropy"
   ]
  },
  {
   "cell_type": "code",
   "execution_count": 113,
   "id": "14258574-254a-4c7c-a717-c76651e779e5",
   "metadata": {},
   "outputs": [
    {
     "name": "stdout",
     "output_type": "stream",
     "text": [
      "[[0.99184306 0.58612884 0.91497395]] 1.451648853788724 0.6904678254869587\n",
      "[[0.99184306 0.58191413 0.91401059]] 1.470762908592003 0.7225208207087309\n",
      "[[0.98304363 0.57810104 0.91148808]] 1.5873724950036903 0.8799431935883193\n",
      "[[0.97416746 0.57410677 0.90811514]] 1.5802200619522697 0.8876167597011858\n",
      "[[0.97416746 0.57172496 0.90430425]] 1.4639846606548108 0.7521489959661091\n"
     ]
    }
   ],
   "source": [
    "w1 = np.random.rand(1,3)\n",
    "#w2 = np.array([0.9, 0.9, 0.9])\n",
    "bias = 0.5\n",
    "lr = 0.01\n",
    "\n",
    "for i in range(5):\n",
    "    a = logit(train_char[i], w1, bias)\n",
    "    ce_loss = cross_entropy(labels_train[i], a, w1, bias)\n",
    "    gradiente = (a - labels_train[i])*train_char[i]\n",
    "    gradiente_bias = (a-labels_train[i])\n",
    "    w1 = w1 - (lr*gradiente)\n",
    "    bias = bias - (lr*gradiente_bias)\n",
    "    print(w1, ce_loss, a)"
   ]
  },
  {
   "cell_type": "code",
   "execution_count": 116,
   "id": "b3e59131-56b1-4d21-91c2-246a74cf6b81",
   "metadata": {},
   "outputs": [],
   "source": [
    "def logistic_regression_w_b(lr, labels, train):\n",
    "    \"\"\"\n",
    "    lr = learning rate\n",
    "    labels = labels de entrenamiento\n",
    "    train = conjunto de datos de entrenamiento\n",
    "    \"\"\"\n",
    "    w = np.random.rand(1,3)\n",
    "    bias = np.random.rand(1)\n",
    "    labels = labels\n",
    "    train = train\n",
    "    for i in range(len(train)):\n",
    "        a = logit(train[i], w, bias)\n",
    "        ce_loss = cross_entropy(labels[i], a, w, bias)\n",
    "        grad = (a - labels[i])*train[i]\n",
    "        grad_bias = (a - labels[i])\n",
    "        w = w - (lr*grad)\n",
    "        bias = bias - (lr*grad_bias)\n",
    "    return w, bias"
   ]
  },
  {
   "cell_type": "code",
   "execution_count": 117,
   "id": "4de5a763-92e4-4e3c-9392-7efbb59acf10",
   "metadata": {},
   "outputs": [
    {
     "name": "stdout",
     "output_type": "stream",
     "text": [
      "[[0.34459931 0.08300019 0.28702852]] [0.10757761]\n"
     ]
    }
   ],
   "source": [
    "w_, b_ = logistic_regression_w_b(0.003, labels_train, train_char)\n",
    "print(w_, b_)"
   ]
  },
  {
   "cell_type": "markdown",
   "id": "31a0f7ff-78a1-4756-acb0-0f227fac5c74",
   "metadata": {},
   "source": [
    "**CON ESTO REGRESAMOS UN VECTOR DE PESOS Y EL BIAS DESPUÉS DEL ENTRENAMIENTO CON EL CONJUNTO DE DATOS EN CUESTIÓN**\n",
    "\n",
    "**FALTA EVALUAR, Y VER DETALLES PARTICULARES DE IMPLEMENTACIÓN**"
   ]
  },
  {
   "cell_type": "markdown",
   "id": "0ab9ce12-56c2-4d0c-826d-3b0ec2867c08",
   "metadata": {},
   "source": [
    "## Red Neuronal"
   ]
  },
  {
   "cell_type": "code",
   "execution_count": null,
   "id": "49431587-d12c-49ad-b0f3-a9d5365ec940",
   "metadata": {},
   "outputs": [],
   "source": []
  },
  {
   "cell_type": "markdown",
   "id": "8eaff081-a96c-4642-ad11-9710cb9ec397",
   "metadata": {
    "jp-MarkdownHeadingCollapsed": true
   },
   "source": [
    "## K-Means"
   ]
  },
  {
   "cell_type": "code",
   "execution_count": null,
   "id": "0c778f31-be7a-480b-9b4c-00d16498ec65",
   "metadata": {},
   "outputs": [],
   "source": []
  }
 ],
 "metadata": {
  "kernelspec": {
   "display_name": "Python 3 (ipykernel)",
   "language": "python",
   "name": "python3"
  },
  "language_info": {
   "codemirror_mode": {
    "name": "ipython",
    "version": 3
   },
   "file_extension": ".py",
   "mimetype": "text/x-python",
   "name": "python",
   "nbconvert_exporter": "python",
   "pygments_lexer": "ipython3",
   "version": "3.10.14"
  }
 },
 "nbformat": 4,
 "nbformat_minor": 5
}
