{
 "cells": [
  {
   "cell_type": "markdown",
   "id": "c9683b3c-20ed-4e01-bfac-56e31af1b6cc",
   "metadata": {},
   "source": [
    "## Dataset\n",
    "\n",
    "En las siguientes celdas se importa el dataset y se prepara para la implementación de los modelos de aprendizaje."
   ]
  },
  {
   "cell_type": "code",
   "execution_count": 1,
   "id": "8ae7dc01-549e-4979-b28a-d59b54575528",
   "metadata": {},
   "outputs": [
    {
     "name": "stdout",
     "output_type": "stream",
     "text": [
      "Path to dataset files: C:\\Users\\FLopezP\\.cache\\kagglehub\\datasets\\dragonheir\\logistic-regression\\versions\\1\n"
     ]
    }
   ],
   "source": [
    "import pandas as pd\n",
    "import kagglehub\n",
    "\n",
    "path = kagglehub.dataset_download(\"dragonheir/logistic-regression\")\n",
    "\n",
    "print(\"Path to dataset files:\", path)\n",
    "dataset = pd.read_csv(r'C:\\Users\\FLopezP\\.cache\\kagglehub\\datasets\\dragonheir\\logistic-regression\\versions\\1\\Social_Network_Ads.csv')"
   ]
  },
  {
   "cell_type": "code",
   "execution_count": 2,
   "id": "54345192-17f0-4992-8399-784223d29532",
   "metadata": {
    "scrolled": true
   },
   "outputs": [
    {
     "data": {
      "text/html": [
       "<div>\n",
       "<style scoped>\n",
       "    .dataframe tbody tr th:only-of-type {\n",
       "        vertical-align: middle;\n",
       "    }\n",
       "\n",
       "    .dataframe tbody tr th {\n",
       "        vertical-align: top;\n",
       "    }\n",
       "\n",
       "    .dataframe thead th {\n",
       "        text-align: right;\n",
       "    }\n",
       "</style>\n",
       "<table border=\"1\" class=\"dataframe\">\n",
       "  <thead>\n",
       "    <tr style=\"text-align: right;\">\n",
       "      <th></th>\n",
       "      <th>User ID</th>\n",
       "      <th>Gender</th>\n",
       "      <th>GenderNum</th>\n",
       "      <th>Age</th>\n",
       "      <th>EstimatedSalary</th>\n",
       "      <th>Purchased</th>\n",
       "    </tr>\n",
       "  </thead>\n",
       "  <tbody>\n",
       "    <tr>\n",
       "      <th>0</th>\n",
       "      <td>15624510</td>\n",
       "      <td>Male</td>\n",
       "      <td>0</td>\n",
       "      <td>19</td>\n",
       "      <td>19000</td>\n",
       "      <td>0</td>\n",
       "    </tr>\n",
       "    <tr>\n",
       "      <th>1</th>\n",
       "      <td>15810944</td>\n",
       "      <td>Male</td>\n",
       "      <td>0</td>\n",
       "      <td>35</td>\n",
       "      <td>20000</td>\n",
       "      <td>0</td>\n",
       "    </tr>\n",
       "    <tr>\n",
       "      <th>2</th>\n",
       "      <td>15668575</td>\n",
       "      <td>Female</td>\n",
       "      <td>1</td>\n",
       "      <td>26</td>\n",
       "      <td>43000</td>\n",
       "      <td>0</td>\n",
       "    </tr>\n",
       "    <tr>\n",
       "      <th>3</th>\n",
       "      <td>15603246</td>\n",
       "      <td>Female</td>\n",
       "      <td>1</td>\n",
       "      <td>27</td>\n",
       "      <td>57000</td>\n",
       "      <td>0</td>\n",
       "    </tr>\n",
       "    <tr>\n",
       "      <th>4</th>\n",
       "      <td>15804002</td>\n",
       "      <td>Male</td>\n",
       "      <td>0</td>\n",
       "      <td>19</td>\n",
       "      <td>76000</td>\n",
       "      <td>0</td>\n",
       "    </tr>\n",
       "    <tr>\n",
       "      <th>...</th>\n",
       "      <td>...</td>\n",
       "      <td>...</td>\n",
       "      <td>...</td>\n",
       "      <td>...</td>\n",
       "      <td>...</td>\n",
       "      <td>...</td>\n",
       "    </tr>\n",
       "    <tr>\n",
       "      <th>395</th>\n",
       "      <td>15691863</td>\n",
       "      <td>Female</td>\n",
       "      <td>1</td>\n",
       "      <td>46</td>\n",
       "      <td>41000</td>\n",
       "      <td>1</td>\n",
       "    </tr>\n",
       "    <tr>\n",
       "      <th>396</th>\n",
       "      <td>15706071</td>\n",
       "      <td>Male</td>\n",
       "      <td>0</td>\n",
       "      <td>51</td>\n",
       "      <td>23000</td>\n",
       "      <td>1</td>\n",
       "    </tr>\n",
       "    <tr>\n",
       "      <th>397</th>\n",
       "      <td>15654296</td>\n",
       "      <td>Female</td>\n",
       "      <td>1</td>\n",
       "      <td>50</td>\n",
       "      <td>20000</td>\n",
       "      <td>1</td>\n",
       "    </tr>\n",
       "    <tr>\n",
       "      <th>398</th>\n",
       "      <td>15755018</td>\n",
       "      <td>Male</td>\n",
       "      <td>0</td>\n",
       "      <td>36</td>\n",
       "      <td>33000</td>\n",
       "      <td>0</td>\n",
       "    </tr>\n",
       "    <tr>\n",
       "      <th>399</th>\n",
       "      <td>15594041</td>\n",
       "      <td>Female</td>\n",
       "      <td>1</td>\n",
       "      <td>49</td>\n",
       "      <td>36000</td>\n",
       "      <td>1</td>\n",
       "    </tr>\n",
       "  </tbody>\n",
       "</table>\n",
       "<p>400 rows × 6 columns</p>\n",
       "</div>"
      ],
      "text/plain": [
       "      User ID  Gender  GenderNum  Age  EstimatedSalary  Purchased\n",
       "0    15624510    Male          0   19            19000          0\n",
       "1    15810944    Male          0   35            20000          0\n",
       "2    15668575  Female          1   26            43000          0\n",
       "3    15603246  Female          1   27            57000          0\n",
       "4    15804002    Male          0   19            76000          0\n",
       "..        ...     ...        ...  ...              ...        ...\n",
       "395  15691863  Female          1   46            41000          1\n",
       "396  15706071    Male          0   51            23000          1\n",
       "397  15654296  Female          1   50            20000          1\n",
       "398  15755018    Male          0   36            33000          0\n",
       "399  15594041  Female          1   49            36000          1\n",
       "\n",
       "[400 rows x 6 columns]"
      ]
     },
     "execution_count": 2,
     "metadata": {},
     "output_type": "execute_result"
    }
   ],
   "source": [
    "# Female = 1\n",
    "# Male = 0\n",
    "aux = []\n",
    "for i in range(len(dataset[\"Gender\"])):\n",
    "    if dataset[\"Gender\"][i] == \"Female\":\n",
    "        aux.append(1)\n",
    "    else:\n",
    "        aux.append(0)\n",
    "\n",
    "dataset[\"GenderNum\"] = aux\n",
    "dataset = dataset.loc[:,[\"User ID\", \"Gender\", \"GenderNum\", \"Age\", \"EstimatedSalary\", \"Purchased\"]]\n",
    "dataset"
   ]
  },
  {
   "cell_type": "code",
   "execution_count": 3,
   "id": "864d18d2-c5d9-4d46-9caf-2e5daa360379",
   "metadata": {},
   "outputs": [],
   "source": [
    "# train test split\n",
    "ds_train = dataset[0:280]\n",
    "ds_test = dataset[280:400].reset_index()\n",
    "ds_test = ds_test.drop(columns = [\"index\"])\n",
    "labels_train = ds_train[\"Purchased\"]\n",
    "labels_test = ds_test[\"Purchased\"].reset_index()"
   ]
  },
  {
   "cell_type": "markdown",
   "id": "13cfaed8-ebe8-4298-842d-4043728410cb",
   "metadata": {},
   "source": [
    "## Regresión Logística\n",
    "\n",
    "Buscamos predecir si dadas 3 características (Género, Edad, Salario Estimado) se compra un elemento."
   ]
  },
  {
   "cell_type": "code",
   "execution_count": 4,
   "id": "7e1cfccb-b413-4c4d-8a0d-89d3f63e9b1e",
   "metadata": {},
   "outputs": [],
   "source": [
    "# Dimensiones:\n",
    "# Vector de entrada: (M/F, Edad, Salario)\n",
    "# Vector de pesos: (a, b, c)^T\n",
    "# Sesgo: d\n",
    "# z = Entrada.Pesos + Sesgo\n",
    "# Proba = 1/(1+e^-z)\n",
    "\n",
    "import numpy as np\n",
    "def mix_char(ds):\n",
    "    \"\"\"\n",
    "    ds = DataFrame, en este caso asumimos que tiene las características adecuadas del problema\n",
    "\n",
    "    return: lista de características normalizadas\n",
    "    \"\"\"\n",
    "    df = ds.drop(columns = [\"User ID\", \"Gender\"])\n",
    "    for column in df.columns:\n",
    "        if column != \"GenderNum\":\n",
    "            df[column] = df[column] / df[column].max()\n",
    "    \n",
    "    char = []\n",
    "    for i in range(len(ds)):\n",
    "        aux = [df[\"GenderNum\"][i], df[\"Age\"][i], df[\"EstimatedSalary\"][i]]\n",
    "        arr_aux = np.array(aux)\n",
    "        arr_aux = np.reshape(arr_aux, (1,3))\n",
    "        char.append(arr_aux)\n",
    "    return char"
   ]
  },
  {
   "cell_type": "code",
   "execution_count": 5,
   "id": "b3deb2e3-69fa-4d88-8508-40c1810217e4",
   "metadata": {},
   "outputs": [
    {
     "name": "stdout",
     "output_type": "stream",
     "text": [
      "[[0.         0.31666667 0.12666667]] [[1.         0.98333333 0.61111111]]\n"
     ]
    }
   ],
   "source": [
    "#Tenemos los conjuntos de entrenamiento ya agrupados. Ahora tenemos que realizar la multiplicación por los pesos.\n",
    "train_char = mix_char(ds_train)\n",
    "test_char = mix_char(ds_test)\n",
    "\n",
    "print(train_char[0], test_char[0])"
   ]
  },
  {
   "cell_type": "code",
   "execution_count": 6,
   "id": "357e033c-6ee8-415b-b7d7-f3b62af87edd",
   "metadata": {},
   "outputs": [],
   "source": [
    "def logit(train_instance, weight, bias):\n",
    "    \"\"\"\n",
    "    train_instance = Vector único de 1x3.\n",
    "    weight = Vector de pesos (1x3)\n",
    "    bias = Vector del sesgo\n",
    "\n",
    "    returns logit del vector\n",
    "    \"\"\"\n",
    "    weight = weight.reshape(3,1)\n",
    "    z = np.dot(train_instance, weight) + bias\n",
    "    log = 1 / (1 + np.exp(-z))\n",
    "    return log[0][0]\n",
    "\n",
    "def cross_entropy_pog(y, logit):\n",
    "    \"\"\"\n",
    "    y = valor del label\n",
    "    muestra = logit de un valor del dataset\n",
    "\n",
    "    returns CrossEntropy(Label, Muestra)\n",
    "    \"\"\"\n",
    "    cross_entropy = -((y*np.log(logit)) + ((1-y)*np.log(1-logit)))\n",
    "    return cross_entropy"
   ]
  },
  {
   "cell_type": "code",
   "execution_count": 7,
   "id": "b3e59131-56b1-4d21-91c2-246a74cf6b81",
   "metadata": {},
   "outputs": [],
   "source": [
    "def logistic_regression_w_b(lr, labels, train, epochs):\n",
    "    \"\"\"\n",
    "    lr = learning rate\n",
    "    labels = labels de entrenamiento\n",
    "    train = conjunto de datos de entrenamiento\n",
    "    epochs = épocas de entrenamiento\n",
    "\n",
    "    returns w, bias los vectores de peso y sesgo\n",
    "    \"\"\"\n",
    "    w = np.zeros((1,3))\n",
    "    bias = np.random.rand(1)\n",
    "    labels = labels\n",
    "    train = train\n",
    "    for i in range(epochs):\n",
    "        for i in range(len(train)):\n",
    "            a = logit(train[i], w, bias) # Predicción del modelo\n",
    "            ce_loss = cross_entropy_pog(labels[i], a)\n",
    "            grad = (a - labels[i])*train[i]\n",
    "            grad_bias = (a - labels[i])\n",
    "            w -= lr*grad\n",
    "            bias -= lr*grad_bias\n",
    "    return w, bias"
   ]
  },
  {
   "cell_type": "code",
   "execution_count": 8,
   "id": "4de5a763-92e4-4e3c-9392-7efbb59acf10",
   "metadata": {},
   "outputs": [
    {
     "name": "stdout",
     "output_type": "stream",
     "text": [
      "[[0.03854298 2.31403476 3.03862118]] [-3.26575638]\n"
     ]
    }
   ],
   "source": [
    "w_, b_ = logistic_regression_w_b(0.05, labels_train, train_char, 10)\n",
    "print(w_, b_)"
   ]
  },
  {
   "cell_type": "code",
   "execution_count": 9,
   "id": "c3aac567-2874-4bf3-88d4-efb37640ec61",
   "metadata": {},
   "outputs": [
    {
     "name": "stdout",
     "output_type": "stream",
     "text": [
      "120\n"
     ]
    }
   ],
   "source": [
    "eval = [logit(i, w_, b_) for i in test_char]\n",
    "eval_bin = []\n",
    "for i in eval:\n",
    "    if i >= 0.5:\n",
    "        eval_bin.append(1)\n",
    "    else:\n",
    "        eval_bin.append(0)\n",
    "\n",
    "print(len(eval_bin))"
   ]
  },
  {
   "cell_type": "code",
   "execution_count": 10,
   "id": "e483934c-1f0f-4dde-8f51-106c538fc1e5",
   "metadata": {},
   "outputs": [
    {
     "name": "stdout",
     "output_type": "stream",
     "text": [
      "120\n"
     ]
    }
   ],
   "source": [
    "test_labels_perrones = [i for i in labels_test[\"Purchased\"]]\n",
    "print(len(test_labels_perrones))"
   ]
  },
  {
   "cell_type": "code",
   "execution_count": 11,
   "id": "d182319b-f0a0-49f7-8219-10ba80fccd5a",
   "metadata": {},
   "outputs": [
    {
     "name": "stdout",
     "output_type": "stream",
     "text": [
      "              precision    recall  f1-score   support\n",
      "\n",
      "           0       0.55      0.89      0.68        46\n",
      "           1       0.89      0.55      0.68        74\n",
      "\n",
      "    accuracy                           0.68       120\n",
      "   macro avg       0.72      0.72      0.68       120\n",
      "weighted avg       0.76      0.68      0.68       120\n",
      "\n",
      "[[41  5]\n",
      " [33 41]]\n"
     ]
    }
   ],
   "source": [
    "import sklearn\n",
    "from sklearn import metrics\n",
    "print(metrics.classification_report(test_labels_perrones, eval_bin))\n",
    "print(metrics.confusion_matrix(test_labels_perrones, eval_bin))"
   ]
  },
  {
   "cell_type": "markdown",
   "id": "0ab9ce12-56c2-4d0c-826d-3b0ec2867c08",
   "metadata": {},
   "source": [
    "## Red Neuronal\n",
    "\n",
    "La arquitectura de esta red neuronal tendrá 3 valores de entrada, uno por cada valor del dataset. Tendremos **una** capa oculta de **n** unidades, y finalmente una salida binaria."
   ]
  },
  {
   "cell_type": "code",
   "execution_count": 12,
   "id": "49431587-d12c-49ad-b0f3-a9d5365ec940",
   "metadata": {},
   "outputs": [
    {
     "name": "stdout",
     "output_type": "stream",
     "text": [
      "0.0 0.31666666666666665 0.12666666666666668\n"
     ]
    }
   ],
   "source": [
    "in1, in2, in3 = train_char[0][0]\n",
    "print(in1, in2, in3)"
   ]
  },
  {
   "cell_type": "code",
   "execution_count": 26,
   "id": "7f163e1d-ffbc-4bce-b809-550bac78ac3b",
   "metadata": {},
   "outputs": [
    {
     "name": "stdout",
     "output_type": "stream",
     "text": [
      "0.6839923391877291 0.7531336273917066 0.6335066516071446\n"
     ]
    }
   ],
   "source": [
    "#BNU = Basic Neural Unit\n",
    "class BNU:\n",
    "    w = np.random.rand(1,3)\n",
    "    def __init__(self, weight, bias, *inputs):\n",
    "        self.inputs = inputs\n",
    "        self.weight = weight\n",
    "        self.bias = bias\n",
    "\n",
    "    def logit(self):\n",
    "        input_vector = np.array(self.inputs)\n",
    "        peso = self.weight.reshape(3,1)\n",
    "        z = np.dot(input_vector, peso) + self.bias\n",
    "        log = 1 / (1 + np.exp(-z))\n",
    "        return log[0]        \n",
    "\n",
    "w1 = np.random.rand(1,3)\n",
    "b1 = np.random.rand(1)\n",
    "celda1 = BNU(w1, b1, in1, in2, in3)\n",
    "\n",
    "w2 = np.random.rand(1,3)\n",
    "b2 = np.random.rand(1)\n",
    "celda2 = BNU(w2, b2, in1, in2, in3)\n",
    "\n",
    "w3 = np.random.rand(1,3)\n",
    "b3 = np.random.rand(1)\n",
    "celda3 = BNU(w3, b3, in1, in2, in3)\n",
    "\n",
    "print(celda1.logit(), celda2.logit(), celda3.logit())"
   ]
  },
  {
   "cell_type": "code",
   "execution_count": 28,
   "id": "eafa9357-5c88-4203-8682-bc783562c2d5",
   "metadata": {},
   "outputs": [
    {
     "name": "stdout",
     "output_type": "stream",
     "text": [
      "(0.6839923391877291, 0.7531336273917066, 0.6335066516071446)\n"
     ]
    }
   ],
   "source": [
    "w4 = np.random.rand(1, 3)\n",
    "b4 = np.random.rand(1)\n",
    "celda4 = BNU(w4, b4, celda1.logit(), celda2.logit(), celda3.logit())\n",
    "print(celda4.inputs)"
   ]
  },
  {
   "cell_type": "markdown",
   "id": "e80ce3c3-e851-4cd7-9f83-b5c3b1b3aada",
   "metadata": {},
   "source": [
    "**Okay no vamos mal, pero tenemos que optimizar la forma de definir los pesos y demás de manera no estúpida**"
   ]
  },
  {
   "cell_type": "markdown",
   "id": "8eaff081-a96c-4642-ad11-9710cb9ec397",
   "metadata": {
    "jp-MarkdownHeadingCollapsed": true
   },
   "source": [
    "## K-Means"
   ]
  },
  {
   "cell_type": "code",
   "execution_count": null,
   "id": "0c778f31-be7a-480b-9b4c-00d16498ec65",
   "metadata": {},
   "outputs": [],
   "source": []
  }
 ],
 "metadata": {
  "kernelspec": {
   "display_name": "Python 3 (ipykernel)",
   "language": "python",
   "name": "python3"
  },
  "language_info": {
   "codemirror_mode": {
    "name": "ipython",
    "version": 3
   },
   "file_extension": ".py",
   "mimetype": "text/x-python",
   "name": "python",
   "nbconvert_exporter": "python",
   "pygments_lexer": "ipython3",
   "version": "3.10.14"
  }
 },
 "nbformat": 4,
 "nbformat_minor": 5
}
